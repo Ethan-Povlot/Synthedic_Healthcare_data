{
 "cells": [
  {
   "cell_type": "code",
   "execution_count": null,
   "id": "44c91f19",
   "metadata": {},
   "outputs": [],
   "source": [
    "cdf = [weights[0]]\n",
    "for w in weights:\n",
    "    cdf.append(cdf[-1]+w)\n",
    "random_outliers = random.sample(range(0, num_providers), int(round(0.001*num_providers)))\n",
    "for ii in range(0, num_providers):\n",
    "    if ii in random_outliers:\n",
    "        tmp = pd.DataFrame(random.choices(comb_list, k=1), \n",
    "                       columns = sel_columns)\n",
    "    else:\n",
    "        tmp = pd.DataFrame(random.choices(comb_list, cum_weights = cdf, k=1), \n",
    "                       columns = sel_columns)\n",
    "    tmp['ren_id'] = str(ii+1)\n",
    "    #tmp['prov_claim_id'] = ['claim_' + str(x) for x in range(0, group[ii])]\n",
    "    final_df_list.append(tmp)"
   ]
  }
 ],
 "metadata": {
  "kernelspec": {
   "display_name": "Python 3 (ipykernel)",
   "language": "python",
   "name": "python3"
  },
  "language_info": {
   "codemirror_mode": {
    "name": "ipython",
    "version": 3
   },
   "file_extension": ".py",
   "mimetype": "text/x-python",
   "name": "python",
   "nbconvert_exporter": "python",
   "pygments_lexer": "ipython3",
   "version": "3.9.7"
  }
 },
 "nbformat": 4,
 "nbformat_minor": 5
}
