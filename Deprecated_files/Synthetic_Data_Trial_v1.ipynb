{
 "cells": [
  {
   "cell_type": "code",
   "execution_count": null,
   "id": "05afe728",
   "metadata": {},
   "outputs": [],
   "source": [
    "# !pip install PyGreSQL\n",
    "# !pip install nbimporter"
   ]
  },
  {
   "cell_type": "code",
   "execution_count": 1,
   "id": "7c8bc762",
   "metadata": {},
   "outputs": [],
   "source": [
    "import os\n",
    "import csv\n",
    "import pgdb\n",
    "import pickle\n",
    "import zipfile\n",
    "import nbimporter\n",
    "import numpy as np\n",
    "import pandas as pd\n",
    "import scipy\n",
    "# import ProviderPredictionScript\n",
    "\n",
    "from matplotlib import pyplot as plt\n",
    "from sklearn.decomposition import PCA\n",
    "from sklearn.model_selection import KFold\n",
    "from sklearn.preprocessing import StandardScaler\n",
    "from sklearn.model_selection import cross_val_score\n",
    "from sklearn.ensemble import RandomForestClassifier\n",
    "from sklearn.feature_selection import SelectFromModel\n",
    "from sklearn.multioutput import MultiOutputClassifier"
   ]
  },
  {
   "cell_type": "code",
   "execution_count": 2,
   "id": "453397d8",
   "metadata": {},
   "outputs": [],
   "source": [
    "class conn_args(object):\n",
    "    def __init__(self, writehost, host, port, user, db, pw):\n",
    "        self.writehost = writehost\n",
    "        self.host = host\n",
    "        self.port = port\n",
    "        self.user = user\n",
    "        self.db = db\n",
    "        self.pp = pw"
   ]
  },
  {
   "cell_type": "code",
   "execution_count": 3,
   "id": "b91c125c",
   "metadata": {},
   "outputs": [],
   "source": [
    "env = '/home/ec2-user/SageMaker/HM5_Common/env/standardized_connection_details.txt'\n",
    "with open(env, 'r') as fIN:\n",
    "    reader = csv.reader(fIN)\n",
    "    for row in reader:\n",
    "        if row[0].split('=')[0] == 'DB_DATABASE':\n",
    "            db = row[0].split('=')[1]\n",
    "        if row[0].split('=')[0] == 'DB_WRITEHOST':\n",
    "            writehost = row[0].split('=')[1]\n",
    "        if row[0].split('=')[0] == 'DB_HOST':\n",
    "            host = row[0].split('=')[1]\n",
    "        if row[0].split('=')[0] == 'DB_PORT':\n",
    "            port = row[0].split('=')[1]\n",
    "        if row[0].split('=')[0] == 'DB_PASSWORD':\n",
    "            pw = row[0].split('=')[1]\n",
    "        if row[0].split('=')[0] == 'DB_USERNAME':\n",
    "            user = row[0].split('=')[1]\n",
    "\n",
    "strConnArgs = conn_args(writehost, host, port, user, db, pw)"
   ]
  },
  {
   "cell_type": "code",
   "execution_count": 4,
   "id": "3e342e03",
   "metadata": {},
   "outputs": [],
   "source": [
    "# conn = pgdb.connect(host=strConnArgs.host + ':' + strConnArgs.port,\n",
    "#                     database=strConnArgs.db,\n",
    "#                      user=strConnArgs.user, password=strConnArgs.pp)\n",
    "\n",
    "# all_tables = \"SELECT * FROM information_schema.tables;\"\n",
    "# all_tables_df = pd.read_sql(all_tables, conn)\n",
    "\n",
    "# conn.close()"
   ]
  },
  {
   "cell_type": "code",
   "execution_count": 5,
   "id": "befc5db2",
   "metadata": {},
   "outputs": [],
   "source": [
    "# conn = pgdb.connect(host=strConnArgs.host + ':' + strConnArgs.port,\n",
    "#                     database=strConnArgs.db,\n",
    "#                      user=strConnArgs.user, password=strConnArgs.pp)\n",
    "\n",
    "# spec_query = \"SELECT * FROM specialty_group;\"\n",
    "# spec_df = pd.read_sql(spec_query, conn)\n",
    "\n",
    "# conn.close()"
   ]
  },
  {
   "cell_type": "code",
   "execution_count": 6,
   "id": "c30f5b78",
   "metadata": {},
   "outputs": [],
   "source": [
    "conn = pgdb.connect(host=strConnArgs.host + ':' + strConnArgs.port,\n",
    "                    database=strConnArgs.db,\n",
    "                     user=strConnArgs.user, password=strConnArgs.pp)\n",
    "\n",
    "one_spec_query = \"SELECT * FROM enginednlines_5;\"\n",
    "one_spec_df = pd.read_sql(one_spec_query, conn)\n",
    "\n",
    "conn.close()"
   ]
  },
  {
   "cell_type": "code",
   "execution_count": 7,
   "id": "0a3b1dc5",
   "metadata": {},
   "outputs": [],
   "source": [
    "### How many providers do we want to synthesize?\n",
    "\n",
    "## User defined for each specialty\n",
    "num_providers = 1000"
   ]
  },
  {
   "cell_type": "code",
   "execution_count": 9,
   "id": "130006a4",
   "metadata": {},
   "outputs": [
    {
     "data": {
      "text/plain": [
       "DescribeResult(nobs=1000, minmax=(12, 93), mean=53.214, variance=139.84605005005005, skewness=-0.022635132016418712, kurtosis=-0.19180978149517136)"
      ]
     },
     "execution_count": 9,
     "metadata": {},
     "output_type": "execute_result"
    }
   ],
   "source": [
    "### Probability of number of claims per provider\n",
    "\n",
    "### We'll eventually bring inference (of number of claims for each provider) from all customers for each specialty.\n",
    "\n",
    "### Based on MonteCarlo simulation from the empirical data\n",
    "num_claims_df = one_spec_df.groupby(['ren_id']).claim_id\\\n",
    ".nunique().reset_index().rename(columns = {'claim_id': 'num_claims'} )\n",
    "\n",
    "\n",
    "num_iter = 10000\n",
    "num_claims_avg_lst = []\n",
    "for ii in range(0, num_iter):\n",
    "    num_claims_avg_lst.append(round(num_claims_df.sample(round(0.1*len(num_claims_df))).num_claims.mean()))\n",
    "dist_mean = np.round(np.mean(num_claims_avg_lst))\n",
    "dist_std = np.round(np.std(num_claims_avg_lst))\n",
    "group = [int(round(x)) for x in np.random.normal(loc=dist_mean, scale=3*dist_std,size=num_providers)]\n",
    "scipy.stats.describe(group)"
   ]
  },
  {
   "cell_type": "code",
   "execution_count": 10,
   "id": "434498b5",
   "metadata": {},
   "outputs": [],
   "source": [
    "one_spec_df['proc_values'] = one_spec_df['proc_values'].astype(str)\n",
    "one_spec_df['proc_sorted'] = one_spec_df['proc_values'].str.split('@')\n",
    "one_spec_df['proc_sorted'] = one_spec_df['proc_sorted'].apply(sorted)\n",
    "one_spec_df['proc_sorted'] = one_spec_df['proc_sorted'].transform(lambda x: '@'.join(x))\n",
    "one_spec_df['proc_values'] = one_spec_df['proc_sorted']"
   ]
  },
  {
   "cell_type": "code",
   "execution_count": 12,
   "id": "e20ae393",
   "metadata": {},
   "outputs": [],
   "source": [
    "one_spec_df['diag_values'] = one_spec_df['diag_values'].astype(str)\n",
    "one_spec_df['diag_sorted'] = one_spec_df['diag_values'].str.split('@')\n",
    "one_spec_df['diag_sorted'] = one_spec_df['diag_sorted'].apply(sorted)\n",
    "one_spec_df['diag_sorted'] = one_spec_df['diag_sorted'].transform(lambda x: '@'.join(x))\n",
    "one_spec_df['diag_values'] = one_spec_df['diag_sorted']"
   ]
  },
  {
   "cell_type": "code",
   "execution_count": 14,
   "id": "0542db1b",
   "metadata": {},
   "outputs": [],
   "source": [
    "one_spec_df['mod_values'] = one_spec_df['mod_values'].astype(str)\n",
    "one_spec_df['pat_gender'] = one_spec_df['pat_gender'].astype(str)\n",
    "one_spec_df = one_spec_df[['claim_id', 'proc_values',\n",
    "             'diag_values', 'mod_values',\n",
    "             'place_of_service', 'pat_gender']].groupby(\n",
    "    ['claim_id', 'proc_values', 'diag_values', 'place_of_service', 'pat_gender'])\n",
    "one_spec_df = one_spec_df['mod_values'].apply(lambda x: '@'.join(x)).reset_index()"
   ]
  },
  {
   "cell_type": "code",
   "execution_count": 15,
   "id": "4ed4db0c",
   "metadata": {},
   "outputs": [],
   "source": [
    "one_spec_df['mod_sorted'] = one_spec_df['mod_values'].str.split('@')\n",
    "one_spec_df['mod_sorted'] = one_spec_df['mod_sorted'].apply(sorted)\n",
    "one_spec_df['mod_sorted'] = one_spec_df['mod_sorted'].transform(lambda x: '@'.join(x))\n",
    "one_spec_df['mod_values'] = one_spec_df['mod_sorted']"
   ]
  },
  {
   "cell_type": "code",
   "execution_count": 17,
   "id": "b43ffb7b",
   "metadata": {},
   "outputs": [],
   "source": [
    "one_spec_df = one_spec_df.drop(['mod_sorted'], axis=1)"
   ]
  },
  {
   "cell_type": "code",
   "execution_count": 19,
   "id": "d9b4715d",
   "metadata": {},
   "outputs": [],
   "source": [
    "### Determine probability of different combinations \n",
    "### We'll eventually bring inference (of number of claims for each combination) from all customers for each specialty.\n",
    "all_combinations = one_spec_df[['proc_values', 'place_of_service', 'pat_gender',\n",
    "            'diag_values', 'mod_values', 'claim_id', \n",
    "            ]].fillna('None').groupby(['proc_values', 'place_of_service', 'pat_gender',\n",
    "            'diag_values', 'mod_values'])\\\n",
    ".claim_id\\\n",
    ".nunique()\\\n",
    ".reset_index()\\\n",
    ".rename(columns = {'claim_id': 'num_claims'} )\n",
    "all_combinations['prob_claims'] = all_combinations['num_claims']/len(all_combinations)\n",
    "sel_combinations = all_combinations[all_combinations.prob_claims>=0.01]"
   ]
  },
  {
   "cell_type": "code",
   "execution_count": 21,
   "id": "a51dc6aa",
   "metadata": {},
   "outputs": [],
   "source": [
    "## Unique combinations and corresponding weights\n",
    "comb_list = sel_combinations.drop(['num_claims', 'prob_claims'], axis = 1).values\n",
    "weights = sel_combinations['prob_claims'].tolist()"
   ]
  },
  {
   "cell_type": "code",
   "execution_count": 24,
   "id": "b93af592",
   "metadata": {},
   "outputs": [],
   "source": [
    "import random  \n",
    "final_df_list = []\n",
    "random_outliers = random.sample(range(0, num_providers), int(round(0.01*num_providers)))\n",
    "for ii in range(0, num_providers):\n",
    "    if ii in random_outliers:\n",
    "        tmp = pd.DataFrame(random.choices(comb_list, random.shuffle(weights), k=group[ii]), \n",
    "                       columns = sel_combinations.drop(['num_claims', 'prob_claims'], axis = 1).columns)\n",
    "    else:\n",
    "        tmp = pd.DataFrame(random.choices(comb_list, weights, k=group[ii]), \n",
    "                       columns = sel_combinations.drop(['num_claims', 'prob_claims'], axis = 1).columns)\n",
    "    tmp['ren_id'] = 'prov_' + str(ii)\n",
    "    tmp['prov_claim_id'] = ['claim_' + str(x) for x in range(0, group[ii])]\n",
    "    final_df_list.append(tmp)\n",
    "final_df = pd.concat(final_df_list)"
   ]
  },
  {
   "cell_type": "code",
   "execution_count": null,
   "id": "912e2bd2",
   "metadata": {},
   "outputs": [],
   "source": [
    "final_df"
   ]
  }
 ],
 "metadata": {
  "kernelspec": {
   "display_name": "conda_tensorflow_p36",
   "language": "python",
   "name": "conda_tensorflow_p36"
  },
  "language_info": {
   "codemirror_mode": {
    "name": "ipython",
    "version": 3
   },
   "file_extension": ".py",
   "mimetype": "text/x-python",
   "name": "python",
   "nbconvert_exporter": "python",
   "pygments_lexer": "ipython3",
   "version": "3.6.13"
  }
 },
 "nbformat": 4,
 "nbformat_minor": 5
}
