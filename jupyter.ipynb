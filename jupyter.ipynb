{
 "cells": [
  {
   "cell_type": "code",
   "execution_count": 57,
   "id": "d3a2b0d2",
   "metadata": {},
   "outputs": [],
   "source": [
    "import pandas as pd\n",
    "import datetime \n",
    "from datetime import timedelta\n",
    "import keyboard\n",
    "from time import sleep\n",
    "import yfinance as yf\n",
    "def price(a):\n",
    "    stock_info = yf.Ticker(a).info\n",
    "    # stock_info.keys() for other properties you can explore\n",
    "    market_price = stock_info['regularMarketPrice']\n",
    "    #previous_close_price = stock_info['regularMarketPreviousClose']\n",
    "    return market_price"
   ]
  },
  {
   "cell_type": "code",
   "execution_count": null,
   "id": "9efa0723",
   "metadata": {},
   "outputs": [],
   "source": [
    "dict_df = pd.read_csv(\"constituents.csv\")\n",
    "stk_dict = dict_df.set_index('Name').to_dict()\n",
    "stk_dict = stk_dict['Symbol']\n",
    "\n"
   ]
  },
  {
   "cell_type": "code",
   "execution_count": 14,
   "metadata": {},
   "outputs": [
    {
     "name": "stdout",
     "output_type": "stream",
     "text": [
      "ATLANTIC\n",
      "ADDITION TO THE INDUSTRY AS SH\n",
      "THE STREETS TALKING\n",
      "PERFORMING \"I GOT IT,\" MAKE SOM\n",
      "PERFORMING \"I GOT IT,\" MAKE SOM\n"
     ]
    },
    {
     "ename": "KeyboardInterrupt",
     "evalue": "",
     "output_type": "error",
     "traceback": [
      "\u001b[1;31m---------------------------------------------------------------------------\u001b[0m",
      "\u001b[1;31mKeyboardInterrupt\u001b[0m                         Traceback (most recent call last)",
      "\u001b[1;32m~\\AppData\\Local\\Temp/ipykernel_23416/3172243540.py\u001b[0m in \u001b[0;36m<module>\u001b[1;34m\u001b[0m\n\u001b[0;32m     12\u001b[0m     \u001b[0mkeyboard\u001b[0m\u001b[1;33m.\u001b[0m\u001b[0mpress_and_release\u001b[0m\u001b[1;33m(\u001b[0m\u001b[1;34m'enter'\u001b[0m\u001b[1;33m)\u001b[0m\u001b[1;33m\u001b[0m\u001b[1;33m\u001b[0m\u001b[0m\n\u001b[0;32m     13\u001b[0m     \u001b[0msleep\u001b[0m\u001b[1;33m(\u001b[0m\u001b[1;36m4\u001b[0m\u001b[1;33m)\u001b[0m\u001b[1;33m\u001b[0m\u001b[1;33m\u001b[0m\u001b[0m\n\u001b[1;32m---> 14\u001b[1;33m     \u001b[0mf\u001b[0m \u001b[1;33m=\u001b[0m  \u001b[0mopen\u001b[0m\u001b[1;33m(\u001b[0m\u001b[1;34mr\"C:\\Users\\ethan\\Downloads\\Home - YouTube TV.html\"\u001b[0m\u001b[1;33m,\u001b[0m \u001b[1;34m\"r\"\u001b[0m\u001b[1;33m,\u001b[0m \u001b[0mencoding\u001b[0m\u001b[1;33m=\u001b[0m\u001b[1;34m'utf-8-sig'\u001b[0m\u001b[1;33m)\u001b[0m\u001b[1;33m\u001b[0m\u001b[1;33m\u001b[0m\u001b[0m\n\u001b[0m\u001b[0;32m     15\u001b[0m     \u001b[0mf\u001b[0m \u001b[1;33m=\u001b[0m \u001b[0mf\u001b[0m\u001b[1;33m.\u001b[0m\u001b[0mread\u001b[0m\u001b[1;33m(\u001b[0m\u001b[1;33m)\u001b[0m\u001b[1;31m#<span class=\"ytp-caption-segment\"\u001b[0m\u001b[1;33m\u001b[0m\u001b[1;33m\u001b[0m\u001b[0m\n\u001b[0;32m     16\u001b[0m     \u001b[0mp1\u001b[0m \u001b[1;33m=\u001b[0m \u001b[0mf\u001b[0m\u001b[1;33m.\u001b[0m\u001b[0mfind\u001b[0m\u001b[1;33m(\u001b[0m\u001b[1;34m'span class=\"ytp-caption-segment'\u001b[0m\u001b[1;33m)\u001b[0m\u001b[1;33m\u001b[0m\u001b[1;33m\u001b[0m\u001b[0m\n",
      "\u001b[1;32mC:\\Program Files\\WindowsApps\\PythonSoftwareFoundation.Python.3.8_3.8.2800.0_x64__qbz5n2kfra8p0\\lib\\encodings\\utf_8_sig.py\u001b[0m in \u001b[0;36m__init__\u001b[1;34m(self, errors)\u001b[0m\n\u001b[0;32m     48\u001b[0m \u001b[1;33m\u001b[0m\u001b[0m\n\u001b[0;32m     49\u001b[0m \u001b[1;32mclass\u001b[0m \u001b[0mIncrementalDecoder\u001b[0m\u001b[1;33m(\u001b[0m\u001b[0mcodecs\u001b[0m\u001b[1;33m.\u001b[0m\u001b[0mBufferedIncrementalDecoder\u001b[0m\u001b[1;33m)\u001b[0m\u001b[1;33m:\u001b[0m\u001b[1;33m\u001b[0m\u001b[1;33m\u001b[0m\u001b[0m\n\u001b[1;32m---> 50\u001b[1;33m     \u001b[1;32mdef\u001b[0m \u001b[0m__init__\u001b[0m\u001b[1;33m(\u001b[0m\u001b[0mself\u001b[0m\u001b[1;33m,\u001b[0m \u001b[0merrors\u001b[0m\u001b[1;33m=\u001b[0m\u001b[1;34m'strict'\u001b[0m\u001b[1;33m)\u001b[0m\u001b[1;33m:\u001b[0m\u001b[1;33m\u001b[0m\u001b[1;33m\u001b[0m\u001b[0m\n\u001b[0m\u001b[0;32m     51\u001b[0m         \u001b[0mcodecs\u001b[0m\u001b[1;33m.\u001b[0m\u001b[0mBufferedIncrementalDecoder\u001b[0m\u001b[1;33m.\u001b[0m\u001b[0m__init__\u001b[0m\u001b[1;33m(\u001b[0m\u001b[0mself\u001b[0m\u001b[1;33m,\u001b[0m \u001b[0merrors\u001b[0m\u001b[1;33m)\u001b[0m\u001b[1;33m\u001b[0m\u001b[1;33m\u001b[0m\u001b[0m\n\u001b[0;32m     52\u001b[0m         \u001b[0mself\u001b[0m\u001b[1;33m.\u001b[0m\u001b[0mfirst\u001b[0m \u001b[1;33m=\u001b[0m \u001b[1;36m1\u001b[0m\u001b[1;33m\u001b[0m\u001b[1;33m\u001b[0m\u001b[0m\n",
      "\u001b[1;31mKeyboardInterrupt\u001b[0m: "
     ]
    }
   ],
   "source": [
    "# Using Keyboard module in Python will have to use this in the end\n",
    "\n",
    "sleep(3)\n",
    "while True:\n",
    "    # It writes the keys r, k and endofline        \n",
    "    keyboard.press_and_release('ctrl + s')\n",
    "    sleep(.5)\n",
    "    keyboard.press_and_release('enter')\n",
    "    keyboard.press_and_release('tab')\n",
    "    keyboard.press_and_release('enter')\n",
    "    sleep(4)\n",
    "    f =  open(r\"C:\\Users\\ethan\\Downloads\\Home - YouTube TV.html\", \"r\", encoding='utf-8-sig')\n",
    "    f = f.read()#<span class=\"ytp-caption-segment\"\n",
    "    p1 = f.find('span class=\"ytp-caption-segment')\n",
    "    f1= f[p1:p1+2000]\n",
    "    p3 = f1.find(\">\")\n",
    "    p4 = f1.find(\"<\")\n",
    "    f1 = f1[p3+1:p4-1]  \n",
    "    print(f1)\n",
    "    break\n",
    "    \n",
    "\n",
    "    \n"
   ]
  },
  {
   "cell_type": "code",
   "execution_count": 34,
   "id": "bc6b8c47",
   "metadata": {},
   "outputs": [
    {
     "name": "stdout",
     "output_type": "stream",
     "text": [
      "['TXN']\n"
     ]
    }
   ],
   "source": [
    "caption_line = \"THE STREETS TALKING, TEXAS INSTRUMENTS\" #THIS is a test to see if the code is working without running the webscraping component\n",
    "comp_lst = []\n",
    "for stk in list(stk_dict.keys()):\n",
    "    if stk.lower() in caption_line.lower():\n",
    "        comp_lst.append(stk_dict[stk])\n",
    "comp_lst = list(set(comp_lst)) #in case the same company is named twice with different names, IE Delta and Dealta Air Lines which may trigger 2 of the same stock to be added so this de-dupes that\n",
    "print(comp_lst)"
   ]
  },
  {
   "cell_type": "code",
   "execution_count": 61,
   "id": "1843d298",
   "metadata": {},
   "outputs": [
    {
     "data": {
      "text/html": [
       "<div>\n",
       "<style scoped>\n",
       "    .dataframe tbody tr th:only-of-type {\n",
       "        vertical-align: middle;\n",
       "    }\n",
       "\n",
       "    .dataframe tbody tr th {\n",
       "        vertical-align: top;\n",
       "    }\n",
       "\n",
       "    .dataframe thead th {\n",
       "        text-align: right;\n",
       "    }\n",
       "</style>\n",
       "<table border=\"1\" class=\"dataframe\">\n",
       "  <thead>\n",
       "    <tr style=\"text-align: right;\">\n",
       "      <th></th>\n",
       "      <th>time_of_mention_in_utc</th>\n",
       "      <th>Caption</th>\n",
       "      <th>STK_Ticker</th>\n",
       "      <th>price_at_mention</th>\n",
       "      <th>price_after_15_min</th>\n",
       "      <th>Sentiment</th>\n",
       "    </tr>\n",
       "  </thead>\n",
       "  <tbody>\n",
       "    <tr>\n",
       "      <th>0</th>\n",
       "      <td>2022-07-04 20:49:17.381403</td>\n",
       "      <td>THE STREETS TALKING, TEXAS INSTRUMENTS</td>\n",
       "      <td>[TXN]</td>\n",
       "      <td>148.54</td>\n",
       "      <td></td>\n",
       "      <td></td>\n",
       "    </tr>\n",
       "  </tbody>\n",
       "</table>\n",
       "</div>"
      ],
      "text/plain": [
       "       time_of_mention_in_utc                                 Caption  \\\n",
       "0  2022-07-04 20:49:17.381403  THE STREETS TALKING, TEXAS INSTRUMENTS   \n",
       "\n",
       "  STK_Ticker  price_at_mention price_after_15_min Sentiment  \n",
       "0      [TXN]            148.54                               "
      ]
     },
     "execution_count": 61,
     "metadata": {},
     "output_type": "execute_result"
    }
   ],
   "source": [
    "df = pd.DataFrame(columns=[\"time_of_mention_in_utc\", \"Caption\", \"STK_Ticker\", \"price_at_mention\", \"price_after_15_min\", \"Sentiment\"])\n",
    "\n",
    "list = [str(datetime.datetime.utcnow()), caption_line, comp_lst, price(comp_lst[0]), \"\", \"\",]\n",
    "df.loc[len(df)] = list\n",
    "df"
   ]
  },
  {
   "cell_type": "code",
   "execution_count": null,
   "id": "de05e37d",
   "metadata": {},
   "outputs": [],
   "source": [
    "#Second codebase, using blocking to ensure that data is not corupted"
   ]
  },
  {
   "cell_type": "code",
   "execution_count": 59,
   "id": "9895a6fa",
   "metadata": {},
   "outputs": [],
   "source": [
    "df = pd.read_csv(\"base.csv\")\n",
    "df1 = df.loc[(df['price_after_15_min'] == '')]\n",
    "df2 = df.loc[(df['price_after_15_min'] != '')]\n",
    "\n",
    "def fifteen_min_after(x):\n",
    "    x = x.split(\"@\")\n",
    "    if x + timedelta(minutes = 15) < datetime.datetime.utcnow():\n",
    "        return True\n",
    "df1[\"price_after_15_min\"] = df1['time_of_mention_in_utc'].apply(lambda x: fifteen_min_after(x))\n",
    "df_not_ready = df1.loc[(df1['price_after_15_min'] == '')]\n",
    "df_ready = df1.loc[(df1['price_after_15_min'] != '')]\n",
    "\n",
    "df_ready[\"price_after_15_min\"] = df_ready[\"STK_Ticker\"].apply(lambda x: price(x))\n",
    "\n",
    "\n",
    "df = pd.concat([df2, df_not_ready, df_ready])"
   ]
  },
  {
   "cell_type": "code",
   "execution_count": null,
   "id": "ad6d3b89",
   "metadata": {},
   "outputs": [],
   "source": []
  }
 ],
 "metadata": {
  "kernelspec": {
   "display_name": "Python 3.8.10 64-bit (windows store)",
   "language": "python",
   "name": "python3"
  },
  "language_info": {
   "codemirror_mode": {
    "name": "ipython",
    "version": 3
   },
   "file_extension": ".py",
   "mimetype": "text/x-python",
   "name": "python",
   "nbconvert_exporter": "python",
   "pygments_lexer": "ipython3",
   "version": "3.8.10"
  },
  "vscode": {
   "interpreter": {
    "hash": "4a7c2fc3b637f3924af90fe6f44c03be9573cacf9236e6bc10af6188baf9e463"
   }
  }
 },
 "nbformat": 4,
 "nbformat_minor": 5
}
